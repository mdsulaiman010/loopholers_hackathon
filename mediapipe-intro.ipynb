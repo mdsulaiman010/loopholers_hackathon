{
 "cells": [
  {
   "cell_type": "markdown",
   "id": "767c5fd6",
   "metadata": {},
   "source": [
    "### Import dependencies"
   ]
  },
  {
   "cell_type": "code",
   "execution_count": 1,
   "id": "1ddc0cc9",
   "metadata": {},
   "outputs": [],
   "source": [
    "import mediapipe as mp\n",
    "import cv2"
   ]
  },
  {
   "cell_type": "markdown",
   "id": "a37786f0",
   "metadata": {},
   "source": [
    "### Set up MediaPipe\n",
    "- utilities to draw\n",
    "- load holistic model"
   ]
  },
  {
   "cell_type": "code",
   "execution_count": 2,
   "id": "94c8f2f1",
   "metadata": {},
   "outputs": [],
   "source": [
    "# Drawing utilities to draw different detections on screen\n",
    "mp_drawing = mp.solutions.drawing_utils\n",
    "\n",
    "# Model to make ML predictions from video\n",
    "mp_holistic = mp.solutions.holistic"
   ]
  },
  {
   "cell_type": "markdown",
   "id": "29183276",
   "metadata": {},
   "source": [
    "### Load webcam live feed"
   ]
  },
  {
   "cell_type": "code",
   "execution_count": null,
   "id": "8cd56a79",
   "metadata": {},
   "outputs": [
    {
     "name": "stdout",
     "output_type": "stream",
     "text": [
      "Stopping live feed.\n"
     ]
    }
   ],
   "source": [
    "# Define video capture window\n",
    "capture = cv2.VideoCapture(0)   # 0 indicates main camera on system\n",
    "\n",
    "while capture.isOpened():\n",
    "    # Unpack frame data to display on window (first tuple component is boolean on whether to display frame or not)\n",
    "    _, frame = capture.read()\n",
    "    cv2.imshow(winname='Model Detection', mat=frame)\n",
    "\n",
    "    # Define variable to detect keystroke on window\n",
    "    key = cv2.waitKey(10)\n",
    "\n",
    "    # Break out of loop is \"q\" was pressed at any point\n",
    "    if key == ord('q'):\n",
    "        print('Stopping live feed.')\n",
    "        break\n",
    "\n",
    "# Release live feed and destroy all open windows\n",
    "capture.release()\n",
    "cv2.destroyAllWindows()"
   ]
  },
  {
   "cell_type": "markdown",
   "id": "c84e49b1",
   "metadata": {},
   "source": [
    "### Utilize MediaPipe Holistic model for detections\n",
    "- Repeat base code from above to overlay detections on same window"
   ]
  },
  {
   "cell_type": "code",
   "execution_count": null,
   "id": "2f422887",
   "metadata": {},
   "outputs": [
    {
     "name": "stdout",
     "output_type": "stream",
     "text": [
      "Stopping live feed.\n"
     ]
    }
   ],
   "source": [
    "# Define video capture window\n",
    "capture = cv2.VideoCapture(0)   # 0 indicates main camera on system\n",
    "\n",
    "# Initialize holistic model for detections\n",
    "with mp_holistic.Holistic(min_detection_confidence=0.5, min_tracking_confidence=0.5) as model:\n",
    "\n",
    "    while capture.isOpened():\n",
    "        # Unpack frame data to display on window (first tuple component is boolean on whether to display frame or not)\n",
    "        _, frame = capture.read()\n",
    "        \n",
    "        # Convert frame from BGR to RGB (original frame in BGR format)\n",
    "        cvt_image = cv2.cvtColor(frame, cv2.COLOR_BGR2RGB)\n",
    "\n",
    "        # Make detections with model\n",
    "        results = model.process(cvt_image)\n",
    "        \n",
    "        # Extract detection landmarks from results\n",
    "        face_landmarks = results.face_landmarks\n",
    "        pose_landmarks = results.pose_landmarks\n",
    "        right_hand_landmarks = results.right_hand_landmarks\n",
    "        left_hand_landmarks = results.left_hand_landmarks\n",
    "\n",
    "        # Draw face landmarks\n",
    "        mp_drawing.draw_landmarks(frame, face_landmarks, mp_holistic.FACEMESH_CONTOURS)\n",
    "\n",
    "        # Draw right hand landmarks\n",
    "        mp_drawing.draw_landmarks(frame, right_hand_landmarks, mp_holistic.HAND_CONNECTIONS)\n",
    "        \n",
    "        # Draw left hand landmarks\n",
    "        mp_drawing.draw_landmarks(frame, left_hand_landmarks, mp_holistic.HAND_CONNECTIONS)\n",
    "\n",
    "        # Draw pose (full body) landmarks\n",
    "        mp_drawing.draw_landmarks(frame, pose_landmarks, mp_holistic.POSE_CONNECTIONS)\n",
    "\n",
    "\n",
    "        # Display live feed with overlayed landmarks\n",
    "        cv2.imshow(winname='Model Detection', mat=frame)\n",
    "\n",
    "        # Define variable to detect keystroke on window\n",
    "        key = cv2.waitKey(10)\n",
    "\n",
    "        # Break out of loop is \"q\" was pressed at any point\n",
    "        if key == ord('q'):\n",
    "            print('Stopping live feed.')\n",
    "            break\n",
    "\n",
    "# Release live feed and destroy all open windows\n",
    "capture.release()\n",
    "cv2.destroyAllWindows()"
   ]
  },
  {
   "cell_type": "markdown",
   "id": "d71da35e",
   "metadata": {},
   "source": [
    "### Apply styling to drawn landmarks"
   ]
  },
  {
   "cell_type": "code",
   "execution_count": 26,
   "id": "73d4a6fc",
   "metadata": {},
   "outputs": [],
   "source": [
    "landmark_specs = mp_drawing.DrawingSpec(color=(57, 0, 199), thickness=2, circle_radius=1)\n",
    "connection_specs = mp_drawing.DrawingSpec(color=(31, 195, 247), thickness=2, circle_radius=1)"
   ]
  },
  {
   "cell_type": "code",
   "execution_count": 27,
   "id": "f32a4c37",
   "metadata": {},
   "outputs": [
    {
     "name": "stdout",
     "output_type": "stream",
     "text": [
      "Stopping live feed.\n"
     ]
    }
   ],
   "source": [
    "# Define video capture window\n",
    "capture = cv2.VideoCapture(0)   # 0 indicates main camera on system\n",
    "\n",
    "# Initialize holistic model for detections\n",
    "with mp_holistic.Holistic(min_detection_confidence=0.5, min_tracking_confidence=0.5) as model:\n",
    "\n",
    "    while capture.isOpened():\n",
    "        # Unpack frame data to display on window (first tuple component is boolean on whether to display frame or not)\n",
    "        _, frame = capture.read()\n",
    "        \n",
    "        # Convert frame from BGR to RGB (original frame in BGR format)\n",
    "        cvt_image = cv2.cvtColor(frame, cv2.COLOR_BGR2RGB)\n",
    "\n",
    "        # Make detections with model\n",
    "        results = model.process(cvt_image)\n",
    "        \n",
    "        # Extract detection landmarks from results\n",
    "        face_landmarks = results.face_landmarks\n",
    "        pose_landmarks = results.pose_landmarks\n",
    "        right_hand_landmarks = results.right_hand_landmarks\n",
    "        left_hand_landmarks = results.left_hand_landmarks\n",
    "\n",
    "        # Draw face landmarks\n",
    "        mp_drawing.draw_landmarks(frame, face_landmarks, mp_holistic.FACEMESH_CONTOURS,\n",
    "                                  landmark_drawing_spec=landmark_specs,\n",
    "                                  connection_drawing_spec=connection_specs)\n",
    "\n",
    "        # Draw right hand landmarks\n",
    "        mp_drawing.draw_landmarks(frame, right_hand_landmarks, mp_holistic.HAND_CONNECTIONS,\n",
    "                                  landmark_drawing_spec=landmark_specs,\n",
    "                                  connection_drawing_spec=connection_specs)\n",
    "        \n",
    "        # Draw left hand landmarks\n",
    "        mp_drawing.draw_landmarks(frame, left_hand_landmarks, mp_holistic.HAND_CONNECTIONS,\n",
    "                                  landmark_drawing_spec=landmark_specs,\n",
    "                                  connection_drawing_spec=connection_specs)\n",
    "\n",
    "        # Draw pose (full body) landmarks\n",
    "        mp_drawing.draw_landmarks(frame, pose_landmarks, mp_holistic.POSE_CONNECTIONS,\n",
    "                                  landmark_drawing_spec=landmark_specs,\n",
    "                                  connection_drawing_spec=connection_specs)\n",
    "\n",
    "\n",
    "        # Display live feed with overlayed landmarks\n",
    "        cv2.imshow(winname='Model Detection', mat=frame)\n",
    "\n",
    "        # Define variable to detect keystroke on window\n",
    "        key = cv2.waitKey(10)\n",
    "\n",
    "        # Break out of loop is \"q\" was pressed at any point\n",
    "        if key == ord('q'):\n",
    "            print('Stopping live feed.')\n",
    "            break\n",
    "\n",
    "# Release live feed and destroy all open windows\n",
    "capture.release()\n",
    "cv2.destroyAllWindows()"
   ]
  },
  {
   "cell_type": "code",
   "execution_count": null,
   "id": "7ed8975a",
   "metadata": {},
   "outputs": [],
   "source": []
  }
 ],
 "metadata": {
  "kernelspec": {
   "display_name": "cv",
   "language": "python",
   "name": "python3"
  },
  "language_info": {
   "codemirror_mode": {
    "name": "ipython",
    "version": 3
   },
   "file_extension": ".py",
   "mimetype": "text/x-python",
   "name": "python",
   "nbconvert_exporter": "python",
   "pygments_lexer": "ipython3",
   "version": "3.10.16"
  }
 },
 "nbformat": 4,
 "nbformat_minor": 5
}
