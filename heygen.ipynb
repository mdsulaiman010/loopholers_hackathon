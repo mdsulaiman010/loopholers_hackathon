{
 "cells": [
  {
   "cell_type": "code",
   "execution_count": 3,
   "id": "f22c055e",
   "metadata": {},
   "outputs": [
    {
     "ename": "ModuleNotFoundError",
     "evalue": "No module named 'moviepy'",
     "output_type": "error",
     "traceback": [
      "\u001b[0;31m---------------------------------------------------------------------------\u001b[0m",
      "\u001b[0;31mModuleNotFoundError\u001b[0m                       Traceback (most recent call last)",
      "Cell \u001b[0;32mIn[3], line 8\u001b[0m\n\u001b[1;32m      6\u001b[0m \u001b[38;5;28;01mimport\u001b[39;00m \u001b[38;5;21;01mwave\u001b[39;00m\n\u001b[1;32m      7\u001b[0m \u001b[38;5;28;01mimport\u001b[39;00m \u001b[38;5;21;01mcontextlib\u001b[39;00m\n\u001b[0;32m----> 8\u001b[0m \u001b[38;5;28;01mfrom\u001b[39;00m \u001b[38;5;21;01mmoviepy\u001b[39;00m \u001b[38;5;28;01mimport\u001b[39;00m VideoFileClip, AudioFileClip\n\u001b[1;32m     10\u001b[0m load_dotenv(\u001b[38;5;124m'\u001b[39m\u001b[38;5;124m.env\u001b[39m\u001b[38;5;124m'\u001b[39m)\n",
      "\u001b[0;31mModuleNotFoundError\u001b[0m: No module named 'moviepy'"
     ]
    }
   ],
   "source": [
    "import requests\n",
    "import os\n",
    "from dotenv import load_dotenv\n",
    "import cv2\n",
    "import numpy as np\n",
    "import wave\n",
    "import contextlib\n",
    "from moviepy import VideoFileClip, AudioFileClip\n",
    "\n",
    "load_dotenv('.env')"
   ]
  },
  {
   "cell_type": "code",
   "execution_count": 2,
   "id": "a5d1d5f5",
   "metadata": {},
   "outputs": [],
   "source": [
    "heygen_apikey = os.environ['HEYGEN_APIKEY']\n",
    "elevenlabs_apikey = os.environ['ELEVENLABS_APIKEY']"
   ]
  },
  {
   "cell_type": "code",
   "execution_count": 3,
   "id": "c279aa33",
   "metadata": {},
   "outputs": [],
   "source": [
    "def get_audio_duration(path):\n",
    "    with contextlib.closing(wave.open(path,'r')) as f:\n",
    "        return f.getnframes() / float(f.getframerate())\n",
    "\n",
    "def create_talking_head_video(image_path, audio_path, output_path=\"talking_head.mp4\", fps=25):\n",
    "    img = cv2.imread(image_path)\n",
    "    height, width, _ = img.shape\n",
    "\n",
    "    duration = get_audio_duration(audio_path)\n",
    "    frame_count = int(duration * fps)\n",
    "\n",
    "    mouth_open = False\n",
    "    frames = []\n",
    "\n",
    "    for i in range(frame_count):\n",
    "        frame = img.copy()\n",
    "\n",
    "        # Simulate mouth movement by drawing an ellipse (very basic)\n",
    "        if i % 5 == 0:\n",
    "            mouth_open = not mouth_open\n",
    "\n",
    "        if mouth_open:\n",
    "            cv2.ellipse(frame, (width//2, int(height*0.75)), (50, 25), 0, 0, 360, (0,0,0), -1)\n",
    "\n",
    "        frames.append(frame)\n",
    "\n",
    "    # Write frames to video\n",
    "    out = cv2.VideoWriter(output_path, cv2.VideoWriter_fourcc(*'mp4v'), fps, (width, height))\n",
    "    for frame in frames:\n",
    "        out.write(frame)\n",
    "    out.release()\n"
   ]
  },
  {
   "cell_type": "code",
   "execution_count": null,
   "id": "550e4603",
   "metadata": {},
   "outputs": [
    {
     "ename": "ModuleNotFoundError",
     "evalue": "No module named 'moviepy.editor'",
     "output_type": "error",
     "traceback": [
      "\u001b[0;31m---------------------------------------------------------------------------\u001b[0m",
      "\u001b[0;31mModuleNotFoundError\u001b[0m                       Traceback (most recent call last)",
      "Cell \u001b[0;32mIn[5], line 1\u001b[0m\n\u001b[0;32m----> 1\u001b[0m \u001b[38;5;28;01mfrom\u001b[39;00m \u001b[38;5;21;01mmoviepy\u001b[39;00m\u001b[38;5;21;01m.\u001b[39;00m\u001b[38;5;21;01meditor\u001b[39;00m \u001b[38;5;28;01mimport\u001b[39;00m VideoFileClip, AudioFileClip\n\u001b[1;32m      3\u001b[0m \u001b[38;5;28;01mdef\u001b[39;00m \u001b[38;5;21mmux_audio_video\u001b[39m(video_path, audio_path, output_path\u001b[38;5;241m=\u001b[39m\u001b[38;5;124m\"\u001b[39m\u001b[38;5;124mfinal_talking_head.mp4\u001b[39m\u001b[38;5;124m\"\u001b[39m):\n\u001b[1;32m      4\u001b[0m     video_clip \u001b[38;5;241m=\u001b[39m VideoFileClip(video_path)\n",
      "\u001b[0;31mModuleNotFoundError\u001b[0m: No module named 'moviepy.editor'"
     ]
    }
   ],
   "source": [
    "def mux_audio_video(video_path, audio_path, output_path=\"final_talking_head.mp4\"):\n",
    "    video_clip = VideoFileClip(video_path)\n",
    "    audio_clip = AudioFileClip(audio_path)\n",
    "\n",
    "    final_clip = video_clip.set_audio(audio_clip)\n",
    "    final_clip.write_videofile(output_path, codec=\"libx264\", audio_codec=\"aac\")\n"
   ]
  },
  {
   "cell_type": "code",
   "execution_count": null,
   "id": "91064e38",
   "metadata": {},
   "outputs": [],
   "source": []
  },
  {
   "cell_type": "code",
   "execution_count": 4,
   "id": "b389bfe8",
   "metadata": {},
   "outputs": [],
   "source": [
    "url = 'https://api.heygen.com/v2/voices'\n",
    "\n",
    "headers = {\n",
    "    'Accept': 'application/json',\n",
    "    'X-Api-Key': heygen_apikey\n",
    "}"
   ]
  },
  {
   "cell_type": "code",
   "execution_count": 5,
   "id": "5775c75c",
   "metadata": {},
   "outputs": [],
   "source": [
    "resp = requests.get(url=url, headers=headers)"
   ]
  },
  {
   "cell_type": "code",
   "execution_count": 9,
   "id": "4bfa096b",
   "metadata": {},
   "outputs": [],
   "source": [
    "video_generate_url = 'https://api.heygen.com/v2/video/generate'"
   ]
  },
  {
   "cell_type": "code",
   "execution_count": 8,
   "id": "cfa65e27",
   "metadata": {},
   "outputs": [],
   "source": [
    "data = {\n",
    "    \"video_inputs\": [\n",
    "        {\n",
    "            \"character\": {\n",
    "                \"type\": \"avatar\",\n",
    "                \"avatar_id\": \"Lina_Dress_Sitting_Side_public\",\n",
    "                \"avatar_style\": \"normal\"\n",
    "            },\n",
    "            \"voice\": {\n",
    "                \"type\": \"text\",\n",
    "                \"input_text\": \"Welcome to the HeyGen API!\",\n",
    "                \"voice_id\": \"119caed25533477ba63822d5d1552d25\",\n",
    "                \"speed\": 1.1\n",
    "            }\n",
    "        }\n",
    "    ],\n",
    "    \"dimension\": {\n",
    "        \"width\": 1280,\n",
    "        \"height\": 720\n",
    "    }\n",
    "}"
   ]
  },
  {
   "cell_type": "code",
   "execution_count": 10,
   "id": "7decc802",
   "metadata": {},
   "outputs": [],
   "source": [
    "video_resp = requests.post(url=video_generate_url, headers=headers, json=data)"
   ]
  },
  {
   "cell_type": "code",
   "execution_count": 21,
   "id": "b93014e7",
   "metadata": {},
   "outputs": [],
   "source": [
    "if 'data' in video_resp.json():\n",
    "    video_id = video_resp.json()['data']['video_id']"
   ]
  },
  {
   "cell_type": "code",
   "execution_count": 22,
   "id": "3c4acbc2",
   "metadata": {},
   "outputs": [
    {
     "data": {
      "text/plain": [
       "'4ba7febe88da47228a45ce8c1e11ad3f'"
      ]
     },
     "execution_count": 22,
     "metadata": {},
     "output_type": "execute_result"
    }
   ],
   "source": [
    "video_id"
   ]
  },
  {
   "cell_type": "code",
   "execution_count": 23,
   "id": "a66f3936",
   "metadata": {},
   "outputs": [],
   "source": [
    "generated_url = f\"https://api.heygen.com/v1/video_status.get?video_id={video_id}\""
   ]
  },
  {
   "cell_type": "code",
   "execution_count": 26,
   "id": "1662aa97",
   "metadata": {},
   "outputs": [],
   "source": [
    "resp = requests.get(url=generated_url, headers=headers)"
   ]
  },
  {
   "cell_type": "code",
   "execution_count": 27,
   "id": "3331886c",
   "metadata": {},
   "outputs": [
    {
     "data": {
      "text/plain": [
       "{'code': 100,\n",
       " 'data': {'callback_id': None,\n",
       "  'caption_url': None,\n",
       "  'created_at': 1749871145,\n",
       "  'duration': None,\n",
       "  'error': {'code': 'AVATAR_USAGE_NOT_PERMITTED',\n",
       "   'detail': 'Please upgrade your plan to use this avatar: None',\n",
       "   'message': 'Please upgrade your plan to use this avatar: None'},\n",
       "  'gif_url': None,\n",
       "  'id': '4ba7febe88da47228a45ce8c1e11ad3f',\n",
       "  'status': 'failed',\n",
       "  'thumbnail_url': None,\n",
       "  'video_url': None,\n",
       "  'video_url_caption': None},\n",
       " 'message': 'Success'}"
      ]
     },
     "execution_count": 27,
     "metadata": {},
     "output_type": "execute_result"
    }
   ],
   "source": [
    "resp.json()"
   ]
  },
  {
   "cell_type": "code",
   "execution_count": null,
   "id": "dd357d38",
   "metadata": {},
   "outputs": [],
   "source": []
  }
 ],
 "metadata": {
  "kernelspec": {
   "display_name": "cv",
   "language": "python",
   "name": "python3"
  },
  "language_info": {
   "codemirror_mode": {
    "name": "ipython",
    "version": 3
   },
   "file_extension": ".py",
   "mimetype": "text/x-python",
   "name": "python",
   "nbconvert_exporter": "python",
   "pygments_lexer": "ipython3",
   "version": "3.10.0"
  }
 },
 "nbformat": 4,
 "nbformat_minor": 5
}
