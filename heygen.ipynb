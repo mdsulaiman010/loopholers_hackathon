{
 "cells": [
  {
   "cell_type": "code",
   "execution_count": 2,
   "id": "f22c055e",
   "metadata": {},
   "outputs": [
    {
     "data": {
      "text/plain": [
       "True"
      ]
     },
     "execution_count": 2,
     "metadata": {},
     "output_type": "execute_result"
    }
   ],
   "source": [
    "import requests\n",
    "import os\n",
    "from dotenv import load_dotenv\n",
    "\n",
    "load_dotenv('.env')"
   ]
  },
  {
   "cell_type": "code",
   "execution_count": 3,
   "id": "a5d1d5f5",
   "metadata": {},
   "outputs": [],
   "source": [
    "heygen_apikey = os.environ['HEYGEN_APIKEY']\n",
    "elevenlabs_apikey = os.environ['ELEVENLABS_APIKEY']"
   ]
  },
  {
   "cell_type": "code",
   "execution_count": 4,
   "id": "b389bfe8",
   "metadata": {},
   "outputs": [],
   "source": [
    "url = 'https://api.heygen.com/v2/voices'\n",
    "\n",
    "headers = {\n",
    "    'Accept': 'application/json',\n",
    "    'X-Api-Key': heygen_apikey\n",
    "}"
   ]
  },
  {
   "cell_type": "code",
   "execution_count": 5,
   "id": "5775c75c",
   "metadata": {},
   "outputs": [],
   "source": [
    "resp = requests.get(url=url, headers=headers)"
   ]
  },
  {
   "cell_type": "code",
   "execution_count": 9,
   "id": "4bfa096b",
   "metadata": {},
   "outputs": [],
   "source": [
    "video_generate_url = 'https://api.heygen.com/v2/video/generate'"
   ]
  },
  {
   "cell_type": "code",
   "execution_count": 8,
   "id": "cfa65e27",
   "metadata": {},
   "outputs": [],
   "source": [
    "data = {\n",
    "    \"video_inputs\": [\n",
    "        {\n",
    "            \"character\": {\n",
    "                \"type\": \"avatar\",\n",
    "                \"avatar_id\": \"Lina_Dress_Sitting_Side_public\",\n",
    "                \"avatar_style\": \"normal\"\n",
    "            },\n",
    "            \"voice\": {\n",
    "                \"type\": \"text\",\n",
    "                \"input_text\": \"Welcome to the HeyGen API!\",\n",
    "                \"voice_id\": \"119caed25533477ba63822d5d1552d25\",\n",
    "                \"speed\": 1.1\n",
    "            }\n",
    "        }\n",
    "    ],\n",
    "    \"dimension\": {\n",
    "        \"width\": 1280,\n",
    "        \"height\": 720\n",
    "    }\n",
    "}"
   ]
  },
  {
   "cell_type": "code",
   "execution_count": 10,
   "id": "7decc802",
   "metadata": {},
   "outputs": [],
   "source": [
    "video_resp = requests.post(url=video_generate_url, headers=headers, json=data)"
   ]
  },
  {
   "cell_type": "code",
   "execution_count": 21,
   "id": "b93014e7",
   "metadata": {},
   "outputs": [],
   "source": [
    "if 'data' in video_resp.json():\n",
    "    video_id = video_resp.json()['data']['video_id']"
   ]
  },
  {
   "cell_type": "code",
   "execution_count": 22,
   "id": "3c4acbc2",
   "metadata": {},
   "outputs": [
    {
     "data": {
      "text/plain": [
       "'4ba7febe88da47228a45ce8c1e11ad3f'"
      ]
     },
     "execution_count": 22,
     "metadata": {},
     "output_type": "execute_result"
    }
   ],
   "source": [
    "video_id"
   ]
  },
  {
   "cell_type": "code",
   "execution_count": 23,
   "id": "a66f3936",
   "metadata": {},
   "outputs": [],
   "source": [
    "generated_url = f\"https://api.heygen.com/v1/video_status.get?video_id={video_id}\""
   ]
  },
  {
   "cell_type": "code",
   "execution_count": 26,
   "id": "1662aa97",
   "metadata": {},
   "outputs": [],
   "source": [
    "resp = requests.get(url=generated_url, headers=headers)"
   ]
  },
  {
   "cell_type": "code",
   "execution_count": 27,
   "id": "3331886c",
   "metadata": {},
   "outputs": [
    {
     "data": {
      "text/plain": [
       "{'code': 100,\n",
       " 'data': {'callback_id': None,\n",
       "  'caption_url': None,\n",
       "  'created_at': 1749871145,\n",
       "  'duration': None,\n",
       "  'error': {'code': 'AVATAR_USAGE_NOT_PERMITTED',\n",
       "   'detail': 'Please upgrade your plan to use this avatar: None',\n",
       "   'message': 'Please upgrade your plan to use this avatar: None'},\n",
       "  'gif_url': None,\n",
       "  'id': '4ba7febe88da47228a45ce8c1e11ad3f',\n",
       "  'status': 'failed',\n",
       "  'thumbnail_url': None,\n",
       "  'video_url': None,\n",
       "  'video_url_caption': None},\n",
       " 'message': 'Success'}"
      ]
     },
     "execution_count": 27,
     "metadata": {},
     "output_type": "execute_result"
    }
   ],
   "source": [
    "resp.json()"
   ]
  },
  {
   "cell_type": "code",
   "execution_count": null,
   "id": "dd357d38",
   "metadata": {},
   "outputs": [],
   "source": []
  }
 ],
 "metadata": {
  "kernelspec": {
   "display_name": "cv",
   "language": "python",
   "name": "python3"
  },
  "language_info": {
   "codemirror_mode": {
    "name": "ipython",
    "version": 3
   },
   "file_extension": ".py",
   "mimetype": "text/x-python",
   "name": "python",
   "nbconvert_exporter": "python",
   "pygments_lexer": "ipython3",
   "version": "3.10.0"
  }
 },
 "nbformat": 4,
 "nbformat_minor": 5
}
